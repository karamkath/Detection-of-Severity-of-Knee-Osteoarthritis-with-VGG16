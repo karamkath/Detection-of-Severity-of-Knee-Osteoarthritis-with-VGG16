{
 "cells": [
  {
   "cell_type": "code",
   "execution_count": 54,
   "metadata": {},
   "outputs": [
    {
     "name": "stdout",
     "output_type": "stream",
     "text": [
      "1.14.0\n"
     ]
    }
   ],
   "source": [
    "import tensorflow as tf\n",
    "print(tf.__version__)\n",
    "\n",
    "import numpy as np  \n",
    "from keras.preprocessing.image import ImageDataGenerator, img_to_array, load_img  \n",
    "from keras.models import Sequential  \n",
    "from keras.layers import Dropout, Flatten, Dense  \n",
    "from keras import applications \n",
    "from keras.utils.np_utils import to_categorical  \n",
    "import matplotlib.pyplot as plt  \n",
    "import math  \n",
    "import datetime"
   ]
  },
  {
   "cell_type": "code",
   "execution_count": 20,
   "metadata": {},
   "outputs": [],
   "source": [
    "img_width, img_height = 224, 224\n",
    "top_model_weights_path = 'bottleneck_fc_model2.h5'  \n",
    "train_data_dir = \"C:/Users/Akhil/Documents/kneeKL224/train\"\n",
    "validation_data_dir = \"C:/Users/Akhil/Documents/kneeKL224/val\"\n",
    "test_data_dir = \"C:/Users/Akhil/Documents/kneeKL224/test\"\n",
    "\n",
    "epochs = 100\n",
    " \n",
    "batch_size = 32"
   ]
  },
  {
   "cell_type": "code",
   "execution_count": 21,
   "metadata": {},
   "outputs": [],
   "source": [
    "vgg16 = applications.VGG16(include_top=False, weights='imagenet')"
   ]
  },
  {
   "cell_type": "code",
   "execution_count": 22,
   "metadata": {},
   "outputs": [],
   "source": [
    "datagen = ImageDataGenerator(rescale=1. / 255)"
   ]
  },
  {
   "cell_type": "code",
   "execution_count": 23,
   "metadata": {},
   "outputs": [
    {
     "name": "stdout",
     "output_type": "stream",
     "text": [
      "Found 5778 images belonging to 5 classes.\n",
      "Time:  0:14:10.477607\n"
     ]
    }
   ],
   "source": [
    "start = datetime.datetime.now()\n",
    "   \n",
    "generator = datagen.flow_from_directory(  \n",
    "     train_data_dir,  \n",
    "     target_size=(img_width, img_height),  \n",
    "     batch_size=batch_size,  \n",
    "     class_mode=None,  \n",
    "     shuffle=False)  \n",
    "   \n",
    "nb_train_samples = len(generator.filenames)  \n",
    "num_classes = len(generator.class_indices)  \n",
    "   \n",
    "predict_size_train = int(math.ceil(nb_train_samples / batch_size))  \n",
    "   \n",
    "bottleneck_features_train = vgg16.predict_generator(generator, predict_size_train)  \n",
    "   \n",
    "np.save('bottleneck_features_train.npy', bottleneck_features_train)\n",
    "end= datetime.datetime.now()\n",
    "elapsed= end-start\n",
    "print ('Time: ', elapsed)"
   ]
  },
  {
   "cell_type": "code",
   "execution_count": 24,
   "metadata": {},
   "outputs": [
    {
     "name": "stdout",
     "output_type": "stream",
     "text": [
      "Found 826 images belonging to 5 classes.\n",
      "Time:  0:01:59.491855\n"
     ]
    }
   ],
   "source": [
    "\n",
    "start = datetime.datetime.now()\n",
    "generator = datagen.flow_from_directory(  \n",
    "     validation_data_dir,  \n",
    "     target_size=(img_width, img_height),  \n",
    "     batch_size=batch_size,  \n",
    "     class_mode=None,  \n",
    "     shuffle=False)  \n",
    "   \n",
    "nb_validation_samples = len(generator.filenames)  \n",
    "   \n",
    "predict_size_validation = int(math.ceil(nb_validation_samples / batch_size))  \n",
    "   \n",
    "bottleneck_features_validation = vgg16.predict_generator(  \n",
    "     generator, predict_size_validation)  \n",
    "   \n",
    "np.save('bottleneck_features_validation.npy', bottleneck_features_validation) \n",
    "end= datetime.datetime.now()\n",
    "elapsed= end-start\n",
    "print ('Time: ', elapsed)"
   ]
  },
  {
   "cell_type": "code",
   "execution_count": 25,
   "metadata": {},
   "outputs": [
    {
     "name": "stdout",
     "output_type": "stream",
     "text": [
      "Found 1656 images belonging to 5 classes.\n",
      "Time:  0:03:42.498637\n"
     ]
    }
   ],
   "source": [
    "start = datetime.datetime.now()\n",
    "generator = datagen.flow_from_directory(  \n",
    "     test_data_dir,  \n",
    "     target_size=(img_width, img_height),  \n",
    "     batch_size=batch_size,  \n",
    "     class_mode=None,  \n",
    "     shuffle=False)  \n",
    "   \n",
    "nb_test_samples = len(generator.filenames)  \n",
    "   \n",
    "predict_size_test = int(math.ceil(nb_test_samples / batch_size))  \n",
    "   \n",
    "bottleneck_features_test = vgg16.predict_generator(  \n",
    "     generator, predict_size_test)  \n",
    "   \n",
    "np.save('bottleneck_features_test.npy', bottleneck_features_test) \n",
    "end= datetime.datetime.now()\n",
    "elapsed= end-start\n",
    "print ('Time: ', elapsed)"
   ]
  },
  {
   "cell_type": "code",
   "execution_count": 26,
   "metadata": {},
   "outputs": [
    {
     "name": "stdout",
     "output_type": "stream",
     "text": [
      "Found 5778 images belonging to 5 classes.\n"
     ]
    }
   ],
   "source": [
    "\n",
    "datagen_top = ImageDataGenerator(rescale=1./255)  \n",
    "generator_top = datagen_top.flow_from_directory(  \n",
    "         train_data_dir,  \n",
    "         target_size=(img_width, img_height),  \n",
    "         batch_size=batch_size,  \n",
    "         class_mode='categorical',  \n",
    "         shuffle=False)  \n",
    "   \n",
    "nb_train_samples = len(generator_top.filenames)  \n",
    "num_classes = len(generator_top.class_indices)  \n",
    " \n",
    "train_data = np.load('bottleneck_features_train.npy')  \n",
    "   \n",
    " \n",
    "train_labels = generator_top.classes  \n",
    "   \n",
    " \n",
    "train_labels = to_categorical(train_labels) \n"
   ]
  },
  {
   "cell_type": "code",
   "execution_count": 27,
   "metadata": {},
   "outputs": [
    {
     "name": "stdout",
     "output_type": "stream",
     "text": [
      "Found 826 images belonging to 5 classes.\n"
     ]
    }
   ],
   "source": [
    "generator_top = datagen_top.flow_from_directory(  \n",
    "         validation_data_dir,  \n",
    "         target_size=(img_width, img_height),  \n",
    "         batch_size=batch_size,  \n",
    "         class_mode=None,  \n",
    "         shuffle=False)  \n",
    "   \n",
    "nb_validation_samples = len(generator_top.filenames)  \n",
    "   \n",
    "validation_data = np.load('bottleneck_features_validation.npy')  \n",
    "   \n",
    "\n",
    "validation_labels = generator_top.classes  \n",
    "validation_labels = to_categorical(validation_labels)"
   ]
  },
  {
   "cell_type": "code",
   "execution_count": 28,
   "metadata": {},
   "outputs": [
    {
     "name": "stdout",
     "output_type": "stream",
     "text": [
      "Found 1656 images belonging to 5 classes.\n"
     ]
    }
   ],
   "source": [
    "generator_top = datagen_top.flow_from_directory(  \n",
    "         test_data_dir,  \n",
    "         target_size=(img_width, img_height),  \n",
    "         batch_size=batch_size,  \n",
    "         class_mode=None,  \n",
    "         shuffle=False)  \n",
    "   \n",
    "nb_test_samples = len(generator_top.filenames)  \n",
    "   \n",
    "test_data = np.load('bottleneck_features_test.npy')  \n",
    "   \n",
    "test_labels = generator_top.classes\n",
    "test_labels = to_categorical(test_labels)"
   ]
  },
  {
   "cell_type": "code",
   "execution_count": 29,
   "metadata": {},
   "outputs": [
    {
     "data": {
      "text/plain": [
       "5"
      ]
     },
     "execution_count": 29,
     "metadata": {},
     "output_type": "execute_result"
    }
   ],
   "source": [
    "num_classes"
   ]
  },
  {
   "cell_type": "code",
   "execution_count": 30,
   "metadata": {},
   "outputs": [
    {
     "data": {
      "text/plain": [
       "(5778, 7, 7, 512)"
      ]
     },
     "execution_count": 30,
     "metadata": {},
     "output_type": "execute_result"
    }
   ],
   "source": [
    "train_data.shape"
   ]
  },
  {
   "cell_type": "code",
   "execution_count": null,
   "metadata": {},
   "outputs": [],
   "source": []
  },
  {
   "cell_type": "code",
   "execution_count": 1,
   "metadata": {},
   "outputs": [
    {
     "name": "stderr",
     "output_type": "stream",
     "text": [
      "Using TensorFlow backend.\n",
      "C:\\Users\\Akhil\\anaconda3\\lib\\site-packages\\tensorflow\\python\\framework\\dtypes.py:516: FutureWarning: Passing (type, 1) or '1type' as a synonym of type is deprecated; in a future version of numpy, it will be understood as (type, (1,)) / '(1,)type'.\n",
      "  _np_qint8 = np.dtype([(\"qint8\", np.int8, 1)])\n",
      "C:\\Users\\Akhil\\anaconda3\\lib\\site-packages\\tensorflow\\python\\framework\\dtypes.py:517: FutureWarning: Passing (type, 1) or '1type' as a synonym of type is deprecated; in a future version of numpy, it will be understood as (type, (1,)) / '(1,)type'.\n",
      "  _np_quint8 = np.dtype([(\"quint8\", np.uint8, 1)])\n",
      "C:\\Users\\Akhil\\anaconda3\\lib\\site-packages\\tensorflow\\python\\framework\\dtypes.py:518: FutureWarning: Passing (type, 1) or '1type' as a synonym of type is deprecated; in a future version of numpy, it will be understood as (type, (1,)) / '(1,)type'.\n",
      "  _np_qint16 = np.dtype([(\"qint16\", np.int16, 1)])\n",
      "C:\\Users\\Akhil\\anaconda3\\lib\\site-packages\\tensorflow\\python\\framework\\dtypes.py:519: FutureWarning: Passing (type, 1) or '1type' as a synonym of type is deprecated; in a future version of numpy, it will be understood as (type, (1,)) / '(1,)type'.\n",
      "  _np_quint16 = np.dtype([(\"quint16\", np.uint16, 1)])\n",
      "C:\\Users\\Akhil\\anaconda3\\lib\\site-packages\\tensorflow\\python\\framework\\dtypes.py:520: FutureWarning: Passing (type, 1) or '1type' as a synonym of type is deprecated; in a future version of numpy, it will be understood as (type, (1,)) / '(1,)type'.\n",
      "  _np_qint32 = np.dtype([(\"qint32\", np.int32, 1)])\n",
      "C:\\Users\\Akhil\\anaconda3\\lib\\site-packages\\tensorflow\\python\\framework\\dtypes.py:525: FutureWarning: Passing (type, 1) or '1type' as a synonym of type is deprecated; in a future version of numpy, it will be understood as (type, (1,)) / '(1,)type'.\n",
      "  np_resource = np.dtype([(\"resource\", np.ubyte, 1)])\n",
      "C:\\Users\\Akhil\\anaconda3\\lib\\site-packages\\tensorboard\\compat\\tensorflow_stub\\dtypes.py:541: FutureWarning: Passing (type, 1) or '1type' as a synonym of type is deprecated; in a future version of numpy, it will be understood as (type, (1,)) / '(1,)type'.\n",
      "  _np_qint8 = np.dtype([(\"qint8\", np.int8, 1)])\n",
      "C:\\Users\\Akhil\\anaconda3\\lib\\site-packages\\tensorboard\\compat\\tensorflow_stub\\dtypes.py:542: FutureWarning: Passing (type, 1) or '1type' as a synonym of type is deprecated; in a future version of numpy, it will be understood as (type, (1,)) / '(1,)type'.\n",
      "  _np_quint8 = np.dtype([(\"quint8\", np.uint8, 1)])\n",
      "C:\\Users\\Akhil\\anaconda3\\lib\\site-packages\\tensorboard\\compat\\tensorflow_stub\\dtypes.py:543: FutureWarning: Passing (type, 1) or '1type' as a synonym of type is deprecated; in a future version of numpy, it will be understood as (type, (1,)) / '(1,)type'.\n",
      "  _np_qint16 = np.dtype([(\"qint16\", np.int16, 1)])\n",
      "C:\\Users\\Akhil\\anaconda3\\lib\\site-packages\\tensorboard\\compat\\tensorflow_stub\\dtypes.py:544: FutureWarning: Passing (type, 1) or '1type' as a synonym of type is deprecated; in a future version of numpy, it will be understood as (type, (1,)) / '(1,)type'.\n",
      "  _np_quint16 = np.dtype([(\"quint16\", np.uint16, 1)])\n",
      "C:\\Users\\Akhil\\anaconda3\\lib\\site-packages\\tensorboard\\compat\\tensorflow_stub\\dtypes.py:545: FutureWarning: Passing (type, 1) or '1type' as a synonym of type is deprecated; in a future version of numpy, it will be understood as (type, (1,)) / '(1,)type'.\n",
      "  _np_qint32 = np.dtype([(\"qint32\", np.int32, 1)])\n",
      "C:\\Users\\Akhil\\anaconda3\\lib\\site-packages\\tensorboard\\compat\\tensorflow_stub\\dtypes.py:550: FutureWarning: Passing (type, 1) or '1type' as a synonym of type is deprecated; in a future version of numpy, it will be understood as (type, (1,)) / '(1,)type'.\n",
      "  np_resource = np.dtype([(\"resource\", np.ubyte, 1)])\n"
     ]
    },
    {
     "ename": "NameError",
     "evalue": "name 'datetime' is not defined",
     "output_type": "error",
     "traceback": [
      "\u001b[1;31m---------------------------------------------------------------------------\u001b[0m",
      "\u001b[1;31mNameError\u001b[0m                                 Traceback (most recent call last)",
      "\u001b[1;32m<ipython-input-1-e092f476b2e0>\u001b[0m in \u001b[0;36m<module>\u001b[1;34m\u001b[0m\n\u001b[0;32m      2\u001b[0m \u001b[1;33m\u001b[0m\u001b[0m\n\u001b[0;32m      3\u001b[0m \u001b[1;33m\u001b[0m\u001b[0m\n\u001b[1;32m----> 4\u001b[1;33m \u001b[0mstart\u001b[0m \u001b[1;33m=\u001b[0m \u001b[0mdatetime\u001b[0m\u001b[1;33m.\u001b[0m\u001b[0mdatetime\u001b[0m\u001b[1;33m.\u001b[0m\u001b[0mnow\u001b[0m\u001b[1;33m(\u001b[0m\u001b[1;33m)\u001b[0m\u001b[1;33m\u001b[0m\u001b[1;33m\u001b[0m\u001b[0m\n\u001b[0m\u001b[0;32m      5\u001b[0m \u001b[0mmodel\u001b[0m \u001b[1;33m=\u001b[0m \u001b[0mSequential\u001b[0m\u001b[1;33m(\u001b[0m\u001b[1;33m)\u001b[0m\u001b[1;33m\u001b[0m\u001b[1;33m\u001b[0m\u001b[0m\n\u001b[0;32m      6\u001b[0m \u001b[0mmodel\u001b[0m\u001b[1;33m.\u001b[0m\u001b[0madd\u001b[0m\u001b[1;33m(\u001b[0m\u001b[0mConv2D\u001b[0m\u001b[1;33m(\u001b[0m\u001b[1;36m32\u001b[0m\u001b[1;33m,\u001b[0m \u001b[1;33m(\u001b[0m\u001b[1;36m3\u001b[0m\u001b[1;33m,\u001b[0m \u001b[1;36m3\u001b[0m\u001b[1;33m)\u001b[0m\u001b[1;33m,\u001b[0m \u001b[0minput_shape\u001b[0m\u001b[1;33m=\u001b[0m\u001b[0mtrain_data\u001b[0m\u001b[1;33m.\u001b[0m\u001b[0mshape\u001b[0m\u001b[1;33m[\u001b[0m\u001b[1;36m1\u001b[0m\u001b[1;33m:\u001b[0m\u001b[1;33m]\u001b[0m \u001b[1;33m,\u001b[0m \u001b[0mpadding\u001b[0m\u001b[1;33m=\u001b[0m\u001b[1;34m'same'\u001b[0m\u001b[1;33m,\u001b[0m \u001b[0mactivation\u001b[0m\u001b[1;33m=\u001b[0m\u001b[1;34m'relu'\u001b[0m\u001b[1;33m)\u001b[0m\u001b[1;33m)\u001b[0m\u001b[1;33m\u001b[0m\u001b[1;33m\u001b[0m\u001b[0m\n",
      "\u001b[1;31mNameError\u001b[0m: name 'datetime' is not defined"
     ]
    }
   ],
   "source": [
    "from keras.layers.convolutional import Conv2D, MaxPooling2D\n",
    "\n",
    "\n",
    "start = datetime.datetime.now()\n",
    "model = Sequential() \n",
    "model.add(Conv2D(32, (3, 3), input_shape=train_data.shape[1:] , padding='same', activation='relu'))\n",
    "model.add(Dropout(0.2))\n",
    "model.add(Conv2D(32, (3, 3), activation='relu', padding='valid'))\n",
    "model.add(MaxPooling2D(pool_size=(2, 2)))\n",
    "\n",
    "model.add(Flatten(input_shape=train_data.shape[1:]))  \n",
    "model.add(Dense(512, activation='relu'))  \n",
    "model.add(Dropout(0.5))  \n",
    "model.add(Dense(5, activation='softmax'))  \n",
    "\n",
    "model.compile(loss='categorical_crossentropy',\n",
    "             optimizer='adam', metrics=['accuracy'])\n",
    "\n",
    "history = model.fit(train_data, train_labels,  \n",
    "      epochs=epochs,  \n",
    "      batch_size=batch_size,  \n",
    "      validation_data=(validation_data, validation_labels))  \n",
    "\n",
    "model.save_weights(top_model_weights_path)  \n",
    "\n",
    "(eval_loss, eval_accuracy) = model.evaluate(  \n",
    " validation_data, validation_labels, batch_size=batch_size, verbose=1)\n",
    "\n",
    "print(\"[INFO] Accuracy: {:.2f}%\".format(eval_accuracy * 100))  \n",
    "print(\"[INFO] Loss: {}\".format(eval_loss))  \n",
    "end= datetime.datetime.now()\n",
    "elapsed= end-start\n",
    "print ('Time: ', elapsed)"
   ]
  },
  {
   "cell_type": "code",
   "execution_count": 33,
   "metadata": {},
   "outputs": [
    {
     "data": {
      "text/plain": [
       "<matplotlib.legend.Legend at 0x1878a7a5c08>"
      ]
     },
     "execution_count": 33,
     "metadata": {},
     "output_type": "execute_result"
    },
    {
     "data": {
      "image/png": "[encoded data removed]",
      "text/plain": [
       "<Figure size 432x288 with 1 Axes>"
      ]
     },
     "metadata": {
      "needs_background": "light"
     },
     "output_type": "display_data"
    }
   ],
   "source": [
    "plt.figure(1)  \n",
    "\n",
    "# summarize history for accuracy  \n",
    "\n",
    "plt.subplot(211)  \n",
    "plt.plot(history.history['accuracy'])  \n",
    "plt.plot(history.history['val_accuracy'])  \n",
    "plt.title('model accuracy')  \n",
    "plt.ylabel('accuracy')  \n",
    "plt.xlabel('epoch')  \n",
    "plt.legend(['train', 'test'], loc='upper left')  \n"
   ]
  },
  {
   "cell_type": "code",
   "execution_count": 34,
   "metadata": {},
   "outputs": [
    {
     "data": {
      "image/png": "[encoded data removed]",
      "text/plain": [
       "<Figure size 432x288 with 1 Axes>"
      ]
     },
     "metadata": {
      "needs_background": "light"
     },
     "output_type": "display_data"
    }
   ],
   "source": [
    "\n",
    "\n",
    "plt.subplot(212)  \n",
    "plt.plot(history.history['loss'])  \n",
    "plt.plot(history.history['val_loss'])  \n",
    "plt.title('model loss')  \n",
    "plt.ylabel('loss')  \n",
    "plt.xlabel('epoch')  \n",
    "plt.legend(['train', 'test'], loc='upper left')  \n",
    "plt.show()"
   ]
  },
  {
   "cell_type": "code",
   "execution_count": 35,
   "metadata": {},
   "outputs": [
    {
     "data": {
      "image/png": "[encoded data removed]",
      "text/plain": [
       "<Figure size 432x288 with 1 Axes>"
      ]
     },
     "metadata": {
      "needs_background": "light"
     },
     "output_type": "display_data"
    },
    {
     "data": {
      "image/png": "[encoded data removed]",
      "text/plain": [
       "<Figure size 432x288 with 1 Axes>"
      ]
     },
     "metadata": {
      "needs_background": "light"
     },
     "output_type": "display_data"
    }
   ],
   "source": [
    "train_acc = history.history['accuracy']\n",
    "val_acc = history.history['val_accuracy']\n",
    "train_loss = history.history['loss']\n",
    "val_loss = history.history['val_loss']\n",
    "epch = range(1, len(train_acc) + 1)\n",
    "plt.plot(epch, train_acc, 'b', label='Training Accuracy')\n",
    "plt.plot(epch, val_acc, 'g', label='Validation acc')\n",
    "plt.title('Accuracy')\n",
    "plt.ylabel('accuracy')  \n",
    "plt.xlabel('epoch') \n",
    "plt.legend()\n",
    "plt.figure()\n",
    "plt.plot(epch, train_loss, 'b', label='Training loss')\n",
    "plt.plot(epch, val_loss, 'g', label='Validation loss')\n",
    "plt.title('Loss')\n",
    "plt.ylabel('loss')  \n",
    "plt.xlabel('epoch') \n",
    "plt.legend()\n",
    "plt.show()"
   ]
  },
  {
   "cell_type": "code",
   "execution_count": 36,
   "metadata": {},
   "outputs": [
    {
     "name": "stdout",
     "output_type": "stream",
     "text": [
      "1656/1656 [==============================] - 1s 304us/step\n"
     ]
    },
    {
     "data": {
      "text/plain": [
       "[1.1358855715120473, 0.5344203114509583]"
      ]
     },
     "execution_count": 36,
     "metadata": {},
     "output_type": "execute_result"
    }
   ],
   "source": [
    "model.evaluate(test_data, test_labels)"
   ]
  },
  {
   "cell_type": "code",
   "execution_count": 37,
   "metadata": {},
   "outputs": [
    {
     "name": "stdout",
     "output_type": "stream",
     "text": [
      "test data [[[[1.11897254e+00 0.00000000e+00 0.00000000e+00 ... 0.00000000e+00\n",
      "    1.35130572e+00 0.00000000e+00]\n",
      "   [1.30373108e+00 0.00000000e+00 0.00000000e+00 ... 0.00000000e+00\n",
      "    1.07076025e+00 0.00000000e+00]\n",
      "   [6.44399881e-01 0.00000000e+00 0.00000000e+00 ... 0.00000000e+00\n",
      "    6.10054970e-01 0.00000000e+00]\n",
      "   ...\n",
      "   [3.49017680e-01 0.00000000e+00 0.00000000e+00 ... 0.00000000e+00\n",
      "    9.28968549e-01 0.00000000e+00]\n",
      "   [5.38507223e-01 0.00000000e+00 0.00000000e+00 ... 0.00000000e+00\n",
      "    9.19951022e-01 0.00000000e+00]\n",
      "   [1.24157012e-01 0.00000000e+00 0.00000000e+00 ... 0.00000000e+00\n",
      "    6.41287863e-01 0.00000000e+00]]\n",
      "\n",
      "  [[1.24864686e+00 0.00000000e+00 0.00000000e+00 ... 0.00000000e+00\n",
      "    1.22639525e+00 0.00000000e+00]\n",
      "   [1.11917853e+00 0.00000000e+00 0.00000000e+00 ... 0.00000000e+00\n",
      "    1.00332999e+00 0.00000000e+00]\n",
      "   [6.17307186e-01 0.00000000e+00 0.00000000e+00 ... 0.00000000e+00\n",
      "    5.43656230e-01 0.00000000e+00]\n",
      "   ...\n",
      "   [3.48045200e-01 0.00000000e+00 0.00000000e+00 ... 0.00000000e+00\n",
      "    8.65740418e-01 0.00000000e+00]\n",
      "   [9.88215566e-01 0.00000000e+00 0.00000000e+00 ... 9.69009250e-02\n",
      "    9.85741913e-01 0.00000000e+00]\n",
      "   [1.20857763e+00 0.00000000e+00 0.00000000e+00 ... 0.00000000e+00\n",
      "    6.13404989e-01 0.00000000e+00]]\n",
      "\n",
      "  [[8.78843248e-01 0.00000000e+00 0.00000000e+00 ... 0.00000000e+00\n",
      "    8.10966372e-01 0.00000000e+00]\n",
      "   [8.08942795e-01 0.00000000e+00 5.19096553e-02 ... 0.00000000e+00\n",
      "    5.50260544e-01 0.00000000e+00]\n",
      "   [8.18963826e-01 0.00000000e+00 7.77227581e-02 ... 0.00000000e+00\n",
      "    5.48905015e-01 0.00000000e+00]\n",
      "   ...\n",
      "   [5.73612571e-01 0.00000000e+00 2.22229421e-01 ... 0.00000000e+00\n",
      "    3.84885669e-01 0.00000000e+00]\n",
      "   [1.18878162e+00 0.00000000e+00 1.39859259e-01 ... 0.00000000e+00\n",
      "    5.09052396e-01 0.00000000e+00]\n",
      "   [1.36792469e+00 0.00000000e+00 9.58000720e-02 ... 0.00000000e+00\n",
      "    5.00760734e-01 0.00000000e+00]]\n",
      "\n",
      "  ...\n",
      "\n",
      "  [[1.57826245e+00 0.00000000e+00 0.00000000e+00 ... 0.00000000e+00\n",
      "    8.25718045e-01 0.00000000e+00]\n",
      "   [1.36313820e+00 0.00000000e+00 1.64315403e-01 ... 0.00000000e+00\n",
      "    6.14596546e-01 0.00000000e+00]\n",
      "   [5.88407218e-01 0.00000000e+00 9.71980989e-02 ... 0.00000000e+00\n",
      "    7.43716419e-01 0.00000000e+00]\n",
      "   ...\n",
      "   [6.58558071e-01 0.00000000e+00 1.12403750e-01 ... 2.21876055e-03\n",
      "    5.96108913e-01 0.00000000e+00]\n",
      "   [1.32461715e+00 0.00000000e+00 1.04491353e-01 ... 0.00000000e+00\n",
      "    4.37546313e-01 0.00000000e+00]\n",
      "   [1.54610336e+00 0.00000000e+00 2.40966082e-02 ... 0.00000000e+00\n",
      "    3.65791142e-01 0.00000000e+00]]\n",
      "\n",
      "  [[1.25181043e+00 0.00000000e+00 0.00000000e+00 ... 0.00000000e+00\n",
      "    1.19953442e+00 0.00000000e+00]\n",
      "   [1.22772145e+00 0.00000000e+00 0.00000000e+00 ... 0.00000000e+00\n",
      "    1.11889434e+00 0.00000000e+00]\n",
      "   [8.14202547e-01 0.00000000e+00 0.00000000e+00 ... 0.00000000e+00\n",
      "    7.05927908e-01 0.00000000e+00]\n",
      "   ...\n",
      "   [3.74972224e-01 0.00000000e+00 0.00000000e+00 ... 0.00000000e+00\n",
      "    6.94442928e-01 0.00000000e+00]\n",
      "   [1.33293629e+00 0.00000000e+00 3.79599929e-02 ... 0.00000000e+00\n",
      "    5.98132133e-01 0.00000000e+00]\n",
      "   [1.80156457e+00 0.00000000e+00 1.43599987e-01 ... 0.00000000e+00\n",
      "    4.11010236e-01 0.00000000e+00]]\n",
      "\n",
      "  [[3.01734656e-01 0.00000000e+00 0.00000000e+00 ... 0.00000000e+00\n",
      "    1.27543640e+00 0.00000000e+00]\n",
      "   [8.56998265e-01 0.00000000e+00 1.29903048e-01 ... 0.00000000e+00\n",
      "    1.08904791e+00 0.00000000e+00]\n",
      "   [5.67315221e-01 0.00000000e+00 1.40556097e-02 ... 0.00000000e+00\n",
      "    8.20472598e-01 0.00000000e+00]\n",
      "   ...\n",
      "   [0.00000000e+00 0.00000000e+00 0.00000000e+00 ... 0.00000000e+00\n",
      "    6.27638519e-01 0.00000000e+00]\n",
      "   [1.02648020e+00 0.00000000e+00 0.00000000e+00 ... 0.00000000e+00\n",
      "    5.64228714e-01 0.00000000e+00]\n",
      "   [1.31117439e+00 0.00000000e+00 7.09204078e-02 ... 0.00000000e+00\n",
      "    3.09683353e-01 0.00000000e+00]]]\n",
      "\n",
      "\n",
      " [[[1.62040219e-01 0.00000000e+00 0.00000000e+00 ... 0.00000000e+00\n",
      "    1.19297421e+00 0.00000000e+00]\n",
      "   [7.70282388e-01 0.00000000e+00 0.00000000e+00 ... 0.00000000e+00\n",
      "    9.71345425e-01 0.00000000e+00]\n",
      "   [5.65601349e-01 0.00000000e+00 0.00000000e+00 ... 0.00000000e+00\n",
      "    6.18557751e-01 0.00000000e+00]\n",
      "   ...\n",
      "   [4.40499127e-01 0.00000000e+00 0.00000000e+00 ... 0.00000000e+00\n",
      "    7.82832384e-01 0.00000000e+00]\n",
      "   [8.12402785e-01 0.00000000e+00 0.00000000e+00 ... 0.00000000e+00\n",
      "    1.05096817e+00 0.00000000e+00]\n",
      "   [8.63096476e-01 0.00000000e+00 0.00000000e+00 ... 0.00000000e+00\n",
      "    9.49494600e-01 0.00000000e+00]]\n",
      "\n",
      "  [[0.00000000e+00 0.00000000e+00 0.00000000e+00 ... 0.00000000e+00\n",
      "    1.23069632e+00 0.00000000e+00]\n",
      "   [3.09879035e-01 0.00000000e+00 0.00000000e+00 ... 0.00000000e+00\n",
      "    1.12273061e+00 0.00000000e+00]\n",
      "   [4.16279495e-01 0.00000000e+00 0.00000000e+00 ... 0.00000000e+00\n",
      "    5.81188679e-01 0.00000000e+00]\n",
      "   ...\n",
      "   [5.29324710e-01 0.00000000e+00 0.00000000e+00 ... 0.00000000e+00\n",
      "    6.86794519e-01 0.00000000e+00]\n",
      "   [6.42419100e-01 0.00000000e+00 0.00000000e+00 ... 0.00000000e+00\n",
      "    1.03137887e+00 0.00000000e+00]\n",
      "   [7.24720299e-01 0.00000000e+00 0.00000000e+00 ... 0.00000000e+00\n",
      "    8.83696735e-01 0.00000000e+00]]\n",
      "\n",
      "  [[0.00000000e+00 0.00000000e+00 0.00000000e+00 ... 0.00000000e+00\n",
      "    9.04323936e-01 0.00000000e+00]\n",
      "   [1.98527485e-01 0.00000000e+00 0.00000000e+00 ... 0.00000000e+00\n",
      "    7.86193430e-01 0.00000000e+00]\n",
      "   [4.68140811e-01 0.00000000e+00 0.00000000e+00 ... 0.00000000e+00\n",
      "    7.03982592e-01 0.00000000e+00]\n",
      "   ...\n",
      "   [5.78189492e-01 0.00000000e+00 1.77473873e-01 ... 0.00000000e+00\n",
      "    5.41782141e-01 0.00000000e+00]\n",
      "   [7.98205376e-01 0.00000000e+00 2.15812325e-02 ... 0.00000000e+00\n",
      "    5.59931397e-01 0.00000000e+00]\n",
      "   [6.63720369e-01 0.00000000e+00 0.00000000e+00 ... 0.00000000e+00\n",
      "    6.97917700e-01 0.00000000e+00]]\n",
      "\n",
      "  ...\n",
      "\n",
      "  [[9.72779036e-01 0.00000000e+00 1.57864183e-01 ... 0.00000000e+00\n",
      "    1.12195778e+00 0.00000000e+00]\n",
      "   [9.47532415e-01 0.00000000e+00 1.76733583e-01 ... 0.00000000e+00\n",
      "    8.92748833e-01 0.00000000e+00]\n",
      "   [5.25467932e-01 0.00000000e+00 8.21027160e-02 ... 5.19931540e-02\n",
      "    6.72007740e-01 0.00000000e+00]\n",
      "   ...\n",
      "   [3.18040550e-01 0.00000000e+00 2.31784523e-01 ... 0.00000000e+00\n",
      "    5.14475048e-01 0.00000000e+00]\n",
      "   [6.38252676e-01 0.00000000e+00 1.46572381e-01 ... 0.00000000e+00\n",
      "    4.02684331e-01 0.00000000e+00]\n",
      "   [1.02602804e+00 0.00000000e+00 0.00000000e+00 ... 0.00000000e+00\n",
      "    3.40202779e-01 0.00000000e+00]]\n",
      "\n",
      "  [[1.53733146e+00 0.00000000e+00 3.78925204e-02 ... 0.00000000e+00\n",
      "    1.49957681e+00 0.00000000e+00]\n",
      "   [1.42299950e+00 0.00000000e+00 1.13680899e-01 ... 0.00000000e+00\n",
      "    1.23183441e+00 0.00000000e+00]\n",
      "   [5.98351538e-01 0.00000000e+00 0.00000000e+00 ... 0.00000000e+00\n",
      "    8.00809622e-01 0.00000000e+00]\n",
      "   ...\n",
      "   [4.23689783e-01 0.00000000e+00 0.00000000e+00 ... 0.00000000e+00\n",
      "    6.07606113e-01 0.00000000e+00]\n",
      "   [9.02656198e-01 0.00000000e+00 0.00000000e+00 ... 0.00000000e+00\n",
      "    5.78930557e-01 0.00000000e+00]\n",
      "   [8.37216258e-01 0.00000000e+00 0.00000000e+00 ... 0.00000000e+00\n",
      "    4.79146332e-01 0.00000000e+00]]\n",
      "\n",
      "  [[1.42007291e+00 0.00000000e+00 3.87861133e-02 ... 0.00000000e+00\n",
      "    1.27185166e+00 0.00000000e+00]\n",
      "   [1.36829901e+00 0.00000000e+00 7.79584646e-02 ... 0.00000000e+00\n",
      "    1.01255631e+00 0.00000000e+00]\n",
      "   [2.73441255e-01 0.00000000e+00 0.00000000e+00 ... 0.00000000e+00\n",
      "    8.35774362e-01 0.00000000e+00]\n",
      "   ...\n",
      "   [1.68618128e-01 0.00000000e+00 0.00000000e+00 ... 0.00000000e+00\n",
      "    4.86290336e-01 0.00000000e+00]\n",
      "   [8.66821766e-01 0.00000000e+00 0.00000000e+00 ... 0.00000000e+00\n",
      "    5.52726388e-01 0.00000000e+00]\n",
      "   [6.80883169e-01 0.00000000e+00 0.00000000e+00 ... 0.00000000e+00\n",
      "    6.20077252e-01 0.00000000e+00]]]\n",
      "\n",
      "\n",
      " [[[2.09063649e-01 0.00000000e+00 0.00000000e+00 ... 0.00000000e+00\n",
      "    8.91305149e-01 0.00000000e+00]\n",
      "   [5.07705808e-01 0.00000000e+00 0.00000000e+00 ... 0.00000000e+00\n",
      "    1.00685930e+00 0.00000000e+00]\n",
      "   [3.24332237e-01 0.00000000e+00 0.00000000e+00 ... 0.00000000e+00\n",
      "    7.61450589e-01 0.00000000e+00]\n",
      "   ...\n",
      "   [2.75480211e-01 0.00000000e+00 0.00000000e+00 ... 0.00000000e+00\n",
      "    9.10523772e-01 0.00000000e+00]\n",
      "   [6.13739491e-01 0.00000000e+00 0.00000000e+00 ... 0.00000000e+00\n",
      "    1.13802576e+00 0.00000000e+00]\n",
      "   [5.18796563e-01 0.00000000e+00 0.00000000e+00 ... 0.00000000e+00\n",
      "    9.37265933e-01 0.00000000e+00]]\n",
      "\n",
      "  [[0.00000000e+00 0.00000000e+00 0.00000000e+00 ... 0.00000000e+00\n",
      "    7.93361783e-01 0.00000000e+00]\n",
      "   [1.22287408e-01 0.00000000e+00 0.00000000e+00 ... 0.00000000e+00\n",
      "    8.12574208e-01 0.00000000e+00]\n",
      "   [6.13533556e-02 0.00000000e+00 0.00000000e+00 ... 0.00000000e+00\n",
      "    7.09615290e-01 0.00000000e+00]\n",
      "   ...\n",
      "   [1.05274454e-01 0.00000000e+00 0.00000000e+00 ... 0.00000000e+00\n",
      "    6.46030128e-01 0.00000000e+00]\n",
      "   [2.47622073e-01 0.00000000e+00 0.00000000e+00 ... 0.00000000e+00\n",
      "    1.01750314e+00 0.00000000e+00]\n",
      "   [3.23076189e-01 0.00000000e+00 0.00000000e+00 ... 0.00000000e+00\n",
      "    7.10874140e-01 0.00000000e+00]]\n",
      "\n",
      "  [[2.77593732e-04 0.00000000e+00 0.00000000e+00 ... 0.00000000e+00\n",
      "    7.34716117e-01 0.00000000e+00]\n",
      "   [1.18258208e-01 0.00000000e+00 0.00000000e+00 ... 0.00000000e+00\n",
      "    6.48637950e-01 0.00000000e+00]\n",
      "   [1.03045061e-01 0.00000000e+00 4.00967598e-02 ... 0.00000000e+00\n",
      "    7.74196208e-01 0.00000000e+00]\n",
      "   ...\n",
      "   [6.52845204e-02 0.00000000e+00 0.00000000e+00 ... 0.00000000e+00\n",
      "    5.79284966e-01 0.00000000e+00]\n",
      "   [6.57379627e-02 0.00000000e+00 0.00000000e+00 ... 0.00000000e+00\n",
      "    7.11852193e-01 0.00000000e+00]\n",
      "   [0.00000000e+00 0.00000000e+00 0.00000000e+00 ... 0.00000000e+00\n",
      "    6.67532504e-01 0.00000000e+00]]\n",
      "\n",
      "  ...\n",
      "\n",
      "  [[0.00000000e+00 0.00000000e+00 0.00000000e+00 ... 0.00000000e+00\n",
      "    8.52705359e-01 0.00000000e+00]\n",
      "   [2.20775768e-01 0.00000000e+00 0.00000000e+00 ... 0.00000000e+00\n",
      "    8.09376240e-01 0.00000000e+00]\n",
      "   [2.24175125e-01 0.00000000e+00 0.00000000e+00 ... 0.00000000e+00\n",
      "    7.91319609e-01 0.00000000e+00]\n",
      "   ...\n",
      "   [3.37142646e-01 0.00000000e+00 0.00000000e+00 ... 0.00000000e+00\n",
      "    5.98347723e-01 0.00000000e+00]\n",
      "   [5.54068983e-01 0.00000000e+00 0.00000000e+00 ... 0.00000000e+00\n",
      "    6.13735557e-01 0.00000000e+00]\n",
      "   [3.09603274e-01 0.00000000e+00 0.00000000e+00 ... 0.00000000e+00\n",
      "    5.63501358e-01 0.00000000e+00]]\n",
      "\n",
      "  [[0.00000000e+00 0.00000000e+00 0.00000000e+00 ... 0.00000000e+00\n",
      "    1.10297954e+00 0.00000000e+00]\n",
      "   [1.34270921e-01 0.00000000e+00 0.00000000e+00 ... 0.00000000e+00\n",
      "    1.22123981e+00 0.00000000e+00]\n",
      "   [1.05954871e-01 0.00000000e+00 0.00000000e+00 ... 0.00000000e+00\n",
      "    8.35730970e-01 0.00000000e+00]\n",
      "   ...\n",
      "   [0.00000000e+00 0.00000000e+00 0.00000000e+00 ... 0.00000000e+00\n",
      "    6.31268442e-01 0.00000000e+00]\n",
      "   [1.32569581e-01 0.00000000e+00 0.00000000e+00 ... 0.00000000e+00\n",
      "    6.31909549e-01 0.00000000e+00]\n",
      "   [1.25115633e-01 0.00000000e+00 0.00000000e+00 ... 0.00000000e+00\n",
      "    5.55593193e-01 0.00000000e+00]]\n",
      "\n",
      "  [[0.00000000e+00 0.00000000e+00 1.83269382e-02 ... 0.00000000e+00\n",
      "    1.21093392e+00 0.00000000e+00]\n",
      "   [1.96080640e-01 0.00000000e+00 3.21285129e-02 ... 0.00000000e+00\n",
      "    1.25952590e+00 0.00000000e+00]\n",
      "   [7.13710934e-02 0.00000000e+00 1.29275441e-01 ... 0.00000000e+00\n",
      "    1.12585592e+00 0.00000000e+00]\n",
      "   ...\n",
      "   [0.00000000e+00 0.00000000e+00 9.21752155e-02 ... 0.00000000e+00\n",
      "    7.11272240e-01 0.00000000e+00]\n",
      "   [1.31390214e-01 0.00000000e+00 3.05666327e-02 ... 0.00000000e+00\n",
      "    7.55654991e-01 0.00000000e+00]\n",
      "   [6.57525435e-02 0.00000000e+00 0.00000000e+00 ... 0.00000000e+00\n",
      "    5.80725610e-01 0.00000000e+00]]]\n",
      "\n",
      "\n",
      " ...\n",
      "\n",
      "\n",
      " [[[1.06082641e-01 0.00000000e+00 0.00000000e+00 ... 0.00000000e+00\n",
      "    8.29845190e-01 0.00000000e+00]\n",
      "   [2.08886027e-01 0.00000000e+00 0.00000000e+00 ... 0.00000000e+00\n",
      "    7.09256291e-01 0.00000000e+00]\n",
      "   [1.25195920e-01 0.00000000e+00 0.00000000e+00 ... 0.00000000e+00\n",
      "    7.61446297e-01 0.00000000e+00]\n",
      "   ...\n",
      "   [8.41751695e-03 0.00000000e+00 0.00000000e+00 ... 0.00000000e+00\n",
      "    7.23533213e-01 0.00000000e+00]\n",
      "   [1.46723688e-01 0.00000000e+00 0.00000000e+00 ... 0.00000000e+00\n",
      "    8.54591906e-01 0.00000000e+00]\n",
      "   [1.49911195e-01 0.00000000e+00 0.00000000e+00 ... 0.00000000e+00\n",
      "    8.24444294e-01 0.00000000e+00]]\n",
      "\n",
      "  [[0.00000000e+00 0.00000000e+00 0.00000000e+00 ... 0.00000000e+00\n",
      "    6.76177204e-01 0.00000000e+00]\n",
      "   [4.88404036e-02 0.00000000e+00 0.00000000e+00 ... 0.00000000e+00\n",
      "    5.70779979e-01 0.00000000e+00]\n",
      "   [1.48690045e-02 0.00000000e+00 0.00000000e+00 ... 0.00000000e+00\n",
      "    6.78332090e-01 0.00000000e+00]\n",
      "   ...\n",
      "   [0.00000000e+00 0.00000000e+00 0.00000000e+00 ... 0.00000000e+00\n",
      "    6.02484524e-01 0.00000000e+00]\n",
      "   [8.98583382e-02 0.00000000e+00 0.00000000e+00 ... 0.00000000e+00\n",
      "    6.27212405e-01 0.00000000e+00]\n",
      "   [3.24796736e-02 0.00000000e+00 0.00000000e+00 ... 0.00000000e+00\n",
      "    6.56831443e-01 0.00000000e+00]]\n",
      "\n",
      "  [[0.00000000e+00 0.00000000e+00 0.00000000e+00 ... 0.00000000e+00\n",
      "    5.99361241e-01 0.00000000e+00]\n",
      "   [0.00000000e+00 0.00000000e+00 0.00000000e+00 ... 0.00000000e+00\n",
      "    6.35418653e-01 0.00000000e+00]\n",
      "   [0.00000000e+00 0.00000000e+00 0.00000000e+00 ... 0.00000000e+00\n",
      "    7.46627510e-01 0.00000000e+00]\n",
      "   ...\n",
      "   [7.48748109e-02 0.00000000e+00 0.00000000e+00 ... 0.00000000e+00\n",
      "    6.65999889e-01 0.00000000e+00]\n",
      "   [9.79642272e-02 0.00000000e+00 0.00000000e+00 ... 0.00000000e+00\n",
      "    5.26784360e-01 0.00000000e+00]\n",
      "   [0.00000000e+00 0.00000000e+00 0.00000000e+00 ... 0.00000000e+00\n",
      "    5.13987720e-01 0.00000000e+00]]\n",
      "\n",
      "  ...\n",
      "\n",
      "  [[2.69836664e-01 0.00000000e+00 2.35283375e-03 ... 0.00000000e+00\n",
      "    7.04640031e-01 0.00000000e+00]\n",
      "   [4.54199314e-01 0.00000000e+00 1.50068671e-01 ... 0.00000000e+00\n",
      "    7.82243073e-01 0.00000000e+00]\n",
      "   [3.74066681e-01 0.00000000e+00 1.41085625e-01 ... 0.00000000e+00\n",
      "    7.89484799e-01 0.00000000e+00]\n",
      "   ...\n",
      "   [0.00000000e+00 0.00000000e+00 3.11095715e-02 ... 0.00000000e+00\n",
      "    7.97363818e-01 0.00000000e+00]\n",
      "   [1.46608785e-01 0.00000000e+00 2.43223310e-02 ... 0.00000000e+00\n",
      "    7.07174003e-01 0.00000000e+00]\n",
      "   [2.22506374e-02 0.00000000e+00 0.00000000e+00 ... 0.00000000e+00\n",
      "    6.34952009e-01 0.00000000e+00]]\n",
      "\n",
      "  [[2.09276617e-01 0.00000000e+00 0.00000000e+00 ... 0.00000000e+00\n",
      "    7.51326144e-01 0.00000000e+00]\n",
      "   [4.99488026e-01 0.00000000e+00 0.00000000e+00 ... 0.00000000e+00\n",
      "    9.33375597e-01 0.00000000e+00]\n",
      "   [4.03498977e-01 0.00000000e+00 0.00000000e+00 ... 0.00000000e+00\n",
      "    6.67919874e-01 0.00000000e+00]\n",
      "   ...\n",
      "   [0.00000000e+00 0.00000000e+00 0.00000000e+00 ... 0.00000000e+00\n",
      "    6.03306830e-01 0.00000000e+00]\n",
      "   [4.64319438e-02 0.00000000e+00 0.00000000e+00 ... 0.00000000e+00\n",
      "    5.71944475e-01 0.00000000e+00]\n",
      "   [0.00000000e+00 0.00000000e+00 0.00000000e+00 ... 0.00000000e+00\n",
      "    5.65506697e-01 0.00000000e+00]]\n",
      "\n",
      "  [[2.01743841e-01 0.00000000e+00 4.56429124e-02 ... 0.00000000e+00\n",
      "    9.26242173e-01 0.00000000e+00]\n",
      "   [5.14556646e-01 0.00000000e+00 1.51435047e-01 ... 0.00000000e+00\n",
      "    1.06526184e+00 0.00000000e+00]\n",
      "   [2.80198395e-01 0.00000000e+00 1.47908479e-01 ... 0.00000000e+00\n",
      "    9.47182417e-01 0.00000000e+00]\n",
      "   ...\n",
      "   [0.00000000e+00 0.00000000e+00 0.00000000e+00 ... 0.00000000e+00\n",
      "    6.26278877e-01 0.00000000e+00]\n",
      "   [0.00000000e+00 0.00000000e+00 0.00000000e+00 ... 0.00000000e+00\n",
      "    5.75828612e-01 0.00000000e+00]\n",
      "   [0.00000000e+00 0.00000000e+00 0.00000000e+00 ... 0.00000000e+00\n",
      "    5.54960132e-01 0.00000000e+00]]]\n",
      "\n",
      "\n",
      " [[[5.04236698e-01 0.00000000e+00 0.00000000e+00 ... 0.00000000e+00\n",
      "    9.42901611e-01 0.00000000e+00]\n",
      "   [6.79491878e-01 0.00000000e+00 0.00000000e+00 ... 0.00000000e+00\n",
      "    9.69546735e-01 0.00000000e+00]\n",
      "   [4.64316368e-01 0.00000000e+00 0.00000000e+00 ... 0.00000000e+00\n",
      "    7.17792630e-01 0.00000000e+00]\n",
      "   ...\n",
      "   [1.79666862e-01 0.00000000e+00 0.00000000e+00 ... 0.00000000e+00\n",
      "    8.84147763e-01 0.00000000e+00]\n",
      "   [6.86145067e-01 0.00000000e+00 0.00000000e+00 ... 0.00000000e+00\n",
      "    1.22270942e+00 0.00000000e+00]\n",
      "   [6.65537715e-01 0.00000000e+00 0.00000000e+00 ... 0.00000000e+00\n",
      "    1.01929092e+00 0.00000000e+00]]\n",
      "\n",
      "  [[4.39225733e-01 0.00000000e+00 0.00000000e+00 ... 0.00000000e+00\n",
      "    7.99951315e-01 0.00000000e+00]\n",
      "   [5.35115480e-01 0.00000000e+00 0.00000000e+00 ... 0.00000000e+00\n",
      "    7.93665767e-01 0.00000000e+00]\n",
      "   [3.93133163e-01 0.00000000e+00 0.00000000e+00 ... 0.00000000e+00\n",
      "    5.88077009e-01 0.00000000e+00]\n",
      "   ...\n",
      "   [4.17096168e-02 0.00000000e+00 0.00000000e+00 ... 0.00000000e+00\n",
      "    6.67986512e-01 0.00000000e+00]\n",
      "   [1.25303179e-01 0.00000000e+00 0.00000000e+00 ... 0.00000000e+00\n",
      "    9.92763817e-01 0.00000000e+00]\n",
      "   [2.34887749e-01 0.00000000e+00 0.00000000e+00 ... 0.00000000e+00\n",
      "    7.48029590e-01 0.00000000e+00]]\n",
      "\n",
      "  [[6.11945838e-02 0.00000000e+00 0.00000000e+00 ... 0.00000000e+00\n",
      "    6.04757726e-01 0.00000000e+00]\n",
      "   [1.45359784e-01 0.00000000e+00 0.00000000e+00 ... 0.00000000e+00\n",
      "    5.22164941e-01 0.00000000e+00]\n",
      "   [1.25767887e-01 0.00000000e+00 0.00000000e+00 ... 0.00000000e+00\n",
      "    6.40982211e-01 0.00000000e+00]\n",
      "   ...\n",
      "   [1.14033595e-01 0.00000000e+00 0.00000000e+00 ... 0.00000000e+00\n",
      "    5.47501326e-01 0.00000000e+00]\n",
      "   [1.34870589e-01 0.00000000e+00 0.00000000e+00 ... 0.00000000e+00\n",
      "    6.98661029e-01 0.00000000e+00]\n",
      "   [0.00000000e+00 0.00000000e+00 0.00000000e+00 ... 0.00000000e+00\n",
      "    6.89356625e-01 0.00000000e+00]]\n",
      "\n",
      "  ...\n",
      "\n",
      "  [[1.17300734e-01 0.00000000e+00 0.00000000e+00 ... 0.00000000e+00\n",
      "    6.88241959e-01 0.00000000e+00]\n",
      "   [2.51334667e-01 0.00000000e+00 0.00000000e+00 ... 0.00000000e+00\n",
      "    7.67507553e-01 0.00000000e+00]\n",
      "   [2.20118627e-01 0.00000000e+00 1.02842003e-01 ... 0.00000000e+00\n",
      "    8.18557799e-01 0.00000000e+00]\n",
      "   ...\n",
      "   [3.55082691e-01 0.00000000e+00 2.25839615e-02 ... 0.00000000e+00\n",
      "    6.84795201e-01 0.00000000e+00]\n",
      "   [3.73044372e-01 0.00000000e+00 0.00000000e+00 ... 0.00000000e+00\n",
      "    7.21579731e-01 0.00000000e+00]\n",
      "   [1.84835717e-01 0.00000000e+00 0.00000000e+00 ... 0.00000000e+00\n",
      "    6.02527022e-01 0.00000000e+00]]\n",
      "\n",
      "  [[0.00000000e+00 0.00000000e+00 0.00000000e+00 ... 0.00000000e+00\n",
      "    8.67994606e-01 0.00000000e+00]\n",
      "   [9.80674922e-02 0.00000000e+00 0.00000000e+00 ... 0.00000000e+00\n",
      "    8.27801943e-01 0.00000000e+00]\n",
      "   [1.85093224e-01 0.00000000e+00 0.00000000e+00 ... 0.00000000e+00\n",
      "    6.44352734e-01 0.00000000e+00]\n",
      "   ...\n",
      "   [1.84168264e-01 0.00000000e+00 0.00000000e+00 ... 0.00000000e+00\n",
      "    6.68531239e-01 0.00000000e+00]\n",
      "   [3.53966862e-01 0.00000000e+00 0.00000000e+00 ... 0.00000000e+00\n",
      "    7.53135324e-01 0.00000000e+00]\n",
      "   [2.11824313e-01 0.00000000e+00 0.00000000e+00 ... 0.00000000e+00\n",
      "    6.00335360e-01 0.00000000e+00]]\n",
      "\n",
      "  [[0.00000000e+00 0.00000000e+00 0.00000000e+00 ... 0.00000000e+00\n",
      "    1.07248664e+00 0.00000000e+00]\n",
      "   [0.00000000e+00 0.00000000e+00 1.20813906e-01 ... 0.00000000e+00\n",
      "    1.15659010e+00 0.00000000e+00]\n",
      "   [0.00000000e+00 0.00000000e+00 2.97583342e-02 ... 0.00000000e+00\n",
      "    8.78959894e-01 0.00000000e+00]\n",
      "   ...\n",
      "   [0.00000000e+00 0.00000000e+00 6.00808561e-02 ... 0.00000000e+00\n",
      "    5.84923208e-01 0.00000000e+00]\n",
      "   [1.39410168e-01 0.00000000e+00 4.21248078e-02 ... 0.00000000e+00\n",
      "    6.13638282e-01 0.00000000e+00]\n",
      "   [6.02854639e-02 0.00000000e+00 0.00000000e+00 ... 0.00000000e+00\n",
      "    5.67473352e-01 0.00000000e+00]]]\n",
      "\n",
      "\n",
      " [[[7.60157332e-02 0.00000000e+00 0.00000000e+00 ... 0.00000000e+00\n",
      "    7.04113245e-01 0.00000000e+00]\n",
      "   [1.48844302e-01 0.00000000e+00 0.00000000e+00 ... 0.00000000e+00\n",
      "    8.20223808e-01 0.00000000e+00]\n",
      "   [7.83491880e-02 0.00000000e+00 0.00000000e+00 ... 0.00000000e+00\n",
      "    8.21882367e-01 0.00000000e+00]\n",
      "   ...\n",
      "   [9.83995348e-02 0.00000000e+00 0.00000000e+00 ... 0.00000000e+00\n",
      "    6.77296996e-01 0.00000000e+00]\n",
      "   [1.66957676e-01 0.00000000e+00 0.00000000e+00 ... 0.00000000e+00\n",
      "    6.06357694e-01 0.00000000e+00]\n",
      "   [1.39282376e-01 0.00000000e+00 0.00000000e+00 ... 0.00000000e+00\n",
      "    5.55196285e-01 0.00000000e+00]]\n",
      "\n",
      "  [[0.00000000e+00 0.00000000e+00 0.00000000e+00 ... 0.00000000e+00\n",
      "    6.29529536e-01 0.00000000e+00]\n",
      "   [2.55888283e-01 0.00000000e+00 0.00000000e+00 ... 0.00000000e+00\n",
      "    6.46354020e-01 0.00000000e+00]\n",
      "   [2.04357505e-01 0.00000000e+00 0.00000000e+00 ... 0.00000000e+00\n",
      "    6.63656056e-01 0.00000000e+00]\n",
      "   ...\n",
      "   [0.00000000e+00 0.00000000e+00 0.00000000e+00 ... 0.00000000e+00\n",
      "    6.21292293e-01 0.00000000e+00]\n",
      "   [0.00000000e+00 0.00000000e+00 0.00000000e+00 ... 0.00000000e+00\n",
      "    5.52015126e-01 0.00000000e+00]\n",
      "   [0.00000000e+00 0.00000000e+00 0.00000000e+00 ... 0.00000000e+00\n",
      "    2.29757726e-01 0.00000000e+00]]\n",
      "\n",
      "  [[9.02803019e-02 0.00000000e+00 0.00000000e+00 ... 0.00000000e+00\n",
      "    5.16483903e-01 0.00000000e+00]\n",
      "   [2.34393165e-01 0.00000000e+00 0.00000000e+00 ... 0.00000000e+00\n",
      "    5.53896368e-01 0.00000000e+00]\n",
      "   [2.17365101e-01 0.00000000e+00 0.00000000e+00 ... 0.00000000e+00\n",
      "    5.90196311e-01 0.00000000e+00]\n",
      "   ...\n",
      "   [2.67131090e-01 0.00000000e+00 2.13454574e-01 ... 0.00000000e+00\n",
      "    5.08241057e-01 0.00000000e+00]\n",
      "   [2.50085115e-01 0.00000000e+00 0.00000000e+00 ... 0.00000000e+00\n",
      "    4.49564695e-01 0.00000000e+00]\n",
      "   [7.17250407e-02 0.00000000e+00 0.00000000e+00 ... 0.00000000e+00\n",
      "    4.14786696e-01 0.00000000e+00]]\n",
      "\n",
      "  ...\n",
      "\n",
      "  [[1.45438123e+00 0.00000000e+00 6.17618263e-02 ... 0.00000000e+00\n",
      "    8.27275932e-01 0.00000000e+00]\n",
      "   [1.20952034e+00 0.00000000e+00 8.93388689e-02 ... 2.78907269e-02\n",
      "    8.24579895e-01 0.00000000e+00]\n",
      "   [7.31919408e-01 0.00000000e+00 0.00000000e+00 ... 0.00000000e+00\n",
      "    8.45235229e-01 0.00000000e+00]\n",
      "   ...\n",
      "   [2.60734260e-02 0.00000000e+00 3.20425034e-02 ... 4.17341381e-01\n",
      "    9.85759258e-01 0.00000000e+00]\n",
      "   [1.04590595e+00 0.00000000e+00 2.84514546e-01 ... 4.23993245e-02\n",
      "    5.82316101e-01 0.00000000e+00]\n",
      "   [1.34774375e+00 0.00000000e+00 0.00000000e+00 ... 0.00000000e+00\n",
      "    4.17412877e-01 0.00000000e+00]]\n",
      "\n",
      "  [[2.10742235e-01 0.00000000e+00 0.00000000e+00 ... 0.00000000e+00\n",
      "    8.52040291e-01 0.00000000e+00]\n",
      "   [6.77958608e-01 0.00000000e+00 5.50156236e-02 ... 5.18716648e-02\n",
      "    1.05502522e+00 0.00000000e+00]\n",
      "   [6.25300527e-01 0.00000000e+00 0.00000000e+00 ... 0.00000000e+00\n",
      "    6.57248616e-01 0.00000000e+00]\n",
      "   ...\n",
      "   [0.00000000e+00 0.00000000e+00 0.00000000e+00 ... 0.00000000e+00\n",
      "    9.50619042e-01 0.00000000e+00]\n",
      "   [4.70686972e-01 0.00000000e+00 0.00000000e+00 ... 0.00000000e+00\n",
      "    8.05136681e-01 0.00000000e+00]\n",
      "   [7.30973840e-01 0.00000000e+00 0.00000000e+00 ... 0.00000000e+00\n",
      "    5.15849471e-01 0.00000000e+00]]\n",
      "\n",
      "  [[1.73774451e-01 0.00000000e+00 0.00000000e+00 ... 0.00000000e+00\n",
      "    1.03432357e+00 0.00000000e+00]\n",
      "   [4.60773021e-01 0.00000000e+00 1.93010122e-01 ... 0.00000000e+00\n",
      "    9.16446805e-01 0.00000000e+00]\n",
      "   [6.24690056e-02 0.00000000e+00 4.98060286e-02 ... 0.00000000e+00\n",
      "    7.17822433e-01 0.00000000e+00]\n",
      "   ...\n",
      "   [0.00000000e+00 0.00000000e+00 0.00000000e+00 ... 0.00000000e+00\n",
      "    6.33224666e-01 0.00000000e+00]\n",
      "   [0.00000000e+00 0.00000000e+00 0.00000000e+00 ... 0.00000000e+00\n",
      "    6.34013057e-01 0.00000000e+00]\n",
      "   [0.00000000e+00 0.00000000e+00 0.00000000e+00 ... 0.00000000e+00\n",
      "    6.87493861e-01 0.00000000e+00]]]]\n"
     ]
    },
    {
     "name": "stdout",
     "output_type": "stream",
     "text": [
      "rounded test_labels [[1. 0. 0. 0. 0.]\n",
      " [1. 0. 0. 0. 0.]\n",
      " [0. 0. 0. 0. 0.]\n",
      " ...\n",
      " [0. 0. 0. 1. 0.]\n",
      " [0. 0. 0. 1. 0.]\n",
      " [0. 0. 0. 1. 0.]]\n"
     ]
    }
   ],
   "source": [
    "print('test data', test_data)\n",
    "preds = np.round(model.predict(test_data),0) \n",
    "\n",
    "print('rounded test_labels', preds)"
   ]
  },
  {
   "cell_type": "code",
   "execution_count": 39,
   "metadata": {},
   "outputs": [
    {
     "name": "stderr",
     "output_type": "stream",
     "text": [
      "C:\\Users\\Akhil\\anaconda3\\lib\\site-packages\\sklearn\\metrics\\_classification.py:1272: UndefinedMetricWarning: Precision and F-score are ill-defined and being set to 0.0 in samples with no predicted labels. Use `zero_division` parameter to control this behavior.\n",
      "  _warn_prf(average, modifier, msg_start, len(result))\n"
     ]
    }
   ],
   "source": [
    "from sklearn import metrics\n",
    "preds = np.round(model.predict(test_data),0)\n",
    "knee = [\"Grade 0\", \"Grade 1\", \"Grade 2\", \"Grade 3\", \"Grade 4\"]\n",
    "classification_metrics = metrics.classification_report(test_labels, preds, target_names= knee)"
   ]
  },
  {
   "cell_type": "code",
   "execution_count": 40,
   "metadata": {},
   "outputs": [
    {
     "name": "stdout",
     "output_type": "stream",
     "text": [
      "              precision    recall  f1-score   support\n",
      "\n",
      "     Grade 0       0.67      0.58      0.62       639\n",
      "     Grade 1       0.00      0.00      0.00       296\n",
      "     Grade 2       0.51      0.33      0.40       447\n",
      "     Grade 3       0.61      0.38      0.47       223\n",
      "     Grade 4       0.45      0.18      0.25        51\n",
      "\n",
      "   micro avg       0.61      0.37      0.46      1656\n",
      "   macro avg       0.45      0.29      0.35      1656\n",
      "weighted avg       0.49      0.37      0.42      1656\n",
      " samples avg       0.37      0.37      0.37      1656\n",
      "\n"
     ]
    }
   ],
   "source": [
    "print(classification_metrics)"
   ]
  },
  {
   "cell_type": "code",
   "execution_count": 43,
   "metadata": {},
   "outputs": [],
   "source": [
    "import pandas as pd\n",
    "from sklearn.metrics import confusion_matrix\n",
    "categorical_test_labels = pd.DataFrame(test_labels).idxmax(axis=1)\n",
    "categorical_preds = pd.DataFrame(preds).idxmax(axis=1)\n",
    "\n",
    "confusion_matrix= confusion_matrix(categorical_test_labels, categorical_preds)"
   ]
  },
  {
   "cell_type": "code",
   "execution_count": 47,
   "metadata": {},
   "outputs": [],
   "source": [
    "import matplotlib.pyplot as plt \n",
    "import matplotlib.image as mpimg\n",
    "%matplotlib inline\n",
    "import math  \n",
    "import itertools"
   ]
  },
  {
   "cell_type": "code",
   "execution_count": 51,
   "metadata": {},
   "outputs": [],
   "source": [
    "def plot_confusion_matrix(cm, classes,\n",
    "             normalize=False,\n",
    "             title='Confusion matrix',\n",
    "             cmap=plt.cm.Blues):\n",
    "   \n",
    "    if normalize:\n",
    "        cm = cm.astype('float') / cm.sum(axis=1)[:, np.newaxis]\n",
    "        print(\"Normalized confusion matrix\")\n",
    "    else:\n",
    "        print('Confusion matrix, without normalization')\n",
    "\n",
    "    \n",
    "    plt.imshow(cm, interpolation='nearest', cmap=cmap)\n",
    "    plt.title(title)\n",
    "    plt.colorbar()\n",
    "    tick_marks = np.arange(len(classes))\n",
    "    plt.xticks(tick_marks, classes, rotation=45)\n",
    "    plt.yticks(tick_marks, classes)\n",
    "    \n",
    "    fmt = '.2f' if normalize else 'd'\n",
    "    thresh = cm.max() / 2.\n",
    "    for i, j in itertools.product(range(cm.shape[0]), range(cm.shape[1])):\n",
    "        plt.text(j, i, format(cm[i, j], fmt), horizontalalignment=\"center\", color=\"white\" if cm[i, j] > thresh else \"black\")\n",
    "    \n",
    "    plt.tight_layout()\n",
    "    plt.ylabel('True label')\n",
    "    plt.xlabel('Predicted label')\n",
    "    \n",
    "    \n",
    "\n",
    "    "
   ]
  },
  {
   "cell_type": "code",
   "execution_count": 52,
   "metadata": {},
   "outputs": [
    {
     "name": "stdout",
     "output_type": "stream",
     "text": [
      "Confusion matrix, without normalization\n"
     ]
    },
    {
     "data": {
      "image/png": "[encoded data removed]",
      "text/plain": [
       "<Figure size 432x288 with 2 Axes>"
      ]
     },
     "metadata": {
      "needs_background": "light"
     },
     "output_type": "display_data"
    }
   ],
   "source": [
    "plot_confusion_matrix(confusion_matrix, ['Grade 0', 'Grade 1', 'Grade 2', 'Grade 3', 'Grade 4'])"
   ]
  },
  {
   "cell_type": "code",
   "execution_count": 53,
   "metadata": {},
   "outputs": [
    {
     "name": "stdout",
     "output_type": "stream",
     "text": [
      "Normalized confusion matrix\n"
     ]
    },
    {
     "data": {
      "image/png": "[encoded data removed]",
      "text/plain": [
       "<Figure size 432x288 with 2 Axes>"
      ]
     },
     "metadata": {
      "needs_background": "light"
     },
     "output_type": "display_data"
    }
   ],
   "source": [
    "plot_confusion_matrix(confusion_matrix, \n",
    "                      ['Grade 0', 'Grade 1', 'Grade 2', 'Grade 3', 'Grade 4'],\n",
    "                     normalize=True)"
   ]
  },
  {
   "cell_type": "code",
   "execution_count": null,
   "metadata": {},
   "outputs": [],
   "source": []
  },
  {
   "cell_type": "code",
   "execution_count": null,
   "metadata": {},
   "outputs": [],
   "source": []
  },
  {
   "cell_type": "code",
   "execution_count": null,
   "metadata": {},
   "outputs": [],
   "source": []
  },
  {
   "cell_type": "code",
   "execution_count": null,
   "metadata": {},
   "outputs": [],
   "source": []
  },
  {
   "cell_type": "code",
   "execution_count": null,
   "metadata": {},
   "outputs": [],
   "source": []
  }
 ],
 "metadata": {
  "kernelspec": {
   "display_name": "Python 3",
   "language": "python",
   "name": "python3"
  },
  "language_info": {
   "codemirror_mode": {
    "name": "ipython",
    "version": 3
   },
   "file_extension": ".py",
   "mimetype": "text/x-python",
   "name": "python",
   "nbconvert_exporter": "python",
   "pygments_lexer": "ipython3",
   "version": "3.7.6"
  }
 },
 "nbformat": 4,
 "nbformat_minor": 4
}
